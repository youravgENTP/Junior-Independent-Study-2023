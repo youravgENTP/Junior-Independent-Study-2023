{
 "cells": [
  {
   "cell_type": "code",
   "execution_count": 8,
   "metadata": {},
   "outputs": [],
   "source": [
    "import pandas as pd\n",
    "import numpy as np\n",
    "import matplotlib.pyplot as plt\n",
    "from sklearn.model_selection import train_test_split\n",
    "from tqdm.notebook import tqdm"
   ]
  },
  {
   "cell_type": "code",
   "execution_count": 2,
   "metadata": {},
   "outputs": [],
   "source": [
    "df = pd.read_csv(\"/Users/younyung.gene/__TEXTBOOKS__/__3-2__/JUNIOR/patient_count/merged_30days.csv\")"
   ]
  },
  {
   "cell_type": "code",
   "execution_count": 3,
   "metadata": {},
   "outputs": [
    {
     "name": "stdout",
     "output_type": "stream",
     "text": [
      "<class 'pandas.core.frame.DataFrame'>\n",
      "RangeIndex: 94356 entries, 0 to 94355\n",
      "Data columns (total 32 columns):\n",
      " #   Column          Non-Null Count  Dtype  \n",
      "---  ------          --------------  -----  \n",
      " 0   fname           94356 non-null  object \n",
      " 1   AlsUnitNo       94356 non-null  float64\n",
      " 2   AcqDate         94356 non-null  object \n",
      " 3   연구내원번호          94356 non-null  float64\n",
      " 4   sex             94356 non-null  object \n",
      " 5   BirthDate       94356 non-null  object \n",
      " 6   처방시나이           94356 non-null  float64\n",
      " 7   TrueAge         94356 non-null  float64\n",
      " 8   waveform_shape  94356 non-null  object \n",
      " 9   ABPM_Date       94356 non-null  object \n",
      " 10  sbp_office      94356 non-null  float64\n",
      " 11  dbp_office      94356 non-null  float64\n",
      " 12  meanFull_SBP    94356 non-null  float64\n",
      " 13  meanFull_DBP    94356 non-null  float64\n",
      " 14  meanAwake_SBP   94356 non-null  float64\n",
      " 15  meanSleep_SBP   94356 non-null  float64\n",
      " 16  Age             94356 non-null  float64\n",
      " 17  sex_F0M1        94356 non-null  float64\n",
      " 18  Totalchol       94356 non-null  float64\n",
      " 19  LDL             94356 non-null  float64\n",
      " 20  HDL             94356 non-null  float64\n",
      " 21  TG              94356 non-null  float64\n",
      " 22  Hb              94356 non-null  float64\n",
      " 23  Cr              94356 non-null  float64\n",
      " 24  eGFR_MDRD       94356 non-null  float64\n",
      " 25  eGFR_CKDEPI     94356 non-null  float64\n",
      " 26  height          94356 non-null  float64\n",
      " 27  weight          94356 non-null  float64\n",
      " 28  BMI             94356 non-null  float64\n",
      " 29  EF              94356 non-null  float64\n",
      " 30  LVMI            94356 non-null  float64\n",
      " 31  date_diff       94356 non-null  int64  \n",
      "dtypes: float64(25), int64(1), object(6)\n",
      "memory usage: 23.0+ MB\n"
     ]
    }
   ],
   "source": [
    "df.info()"
   ]
  },
  {
   "cell_type": "code",
   "execution_count": 6,
   "metadata": {},
   "outputs": [],
   "source": [
    "def get_dipping_value(row):\n",
    "    awake = row[\"meanAwake_SBP\"]\n",
    "    sleep = row[\"meanSleep_SBP\"]\n",
    "\n",
    "    dipping_value = (awake - sleep) / awake * 100\n",
    "    return dipping_value\n",
    "\n",
    "# Non-Dipper : 1, Dipper : 0\n",
    "def get_dipper_label(row):\n",
    "    dipping_value = row[\"dipping_value\"]\n",
    "\n",
    "    if dipping_value > 10:\n",
    "        return 0\n",
    "    else: \n",
    "        return 1"
   ]
  },
  {
   "cell_type": "code",
   "execution_count": 9,
   "metadata": {},
   "outputs": [
    {
     "data": {
      "application/vnd.jupyter.widget-view+json": {
       "model_id": "8456167c8fdf4052805baaa2b1f098fa",
       "version_major": 2,
       "version_minor": 0
      },
      "text/plain": [
       "  0%|          | 0/94356 [00:00<?, ?it/s]"
      ]
     },
     "metadata": {},
     "output_type": "display_data"
    },
    {
     "data": {
      "application/vnd.jupyter.widget-view+json": {
       "model_id": "af7a000d3289442c9fe72a20c93be7c4",
       "version_major": 2,
       "version_minor": 0
      },
      "text/plain": [
       "  0%|          | 0/94356 [00:00<?, ?it/s]"
      ]
     },
     "metadata": {},
     "output_type": "display_data"
    }
   ],
   "source": [
    "tqdm.pandas()\n",
    "\n",
    "df_class = df.copy(deep=True)\n",
    "df_class[\"dipping_value\"] = df_class.progress_apply(get_dipping_value, axis=1)\n",
    "df_class[\"dipper_label\"] = df_class.progress_apply(get_dipper_label, axis=1)"
   ]
  },
  {
   "cell_type": "code",
   "execution_count": 15,
   "metadata": {},
   "outputs": [],
   "source": [
    "dipper = df_class.loc[df_class[\"dipper_label\"] == 0]\n",
    "non_dipper = df_class.loc[df_class[\"dipper_label\"] == 1]"
   ]
  },
  {
   "cell_type": "code",
   "execution_count": 16,
   "metadata": {},
   "outputs": [],
   "source": [
    "dipper.to_csv(\"/Users/younyung.gene/__TEXTBOOKS__/__3-2__/JUNIOR/patient_count/dipper.csv\", index=False)\n",
    "non_dipper.to_csv(\"/Users/younyung.gene/__TEXTBOOKS__/__3-2__/JUNIOR/patient_count/non_dipper.csv\", index=False)"
   ]
  },
  {
   "cell_type": "code",
   "execution_count": 20,
   "metadata": {},
   "outputs": [
    {
     "name": "stderr",
     "output_type": "stream",
     "text": [
      "/var/folders/gy/9j0hfb_n6sb5lxxcxrmmdrw00000gn/T/ipykernel_82308/1046066296.py:1: FutureWarning: Dropping of nuisance columns in DataFrame reductions (with 'numeric_only=None') is deprecated; in a future version this will raise TypeError.  Select only valid columns before calling the reduction.\n",
      "  dipper_avg = pd.DataFrame(dipper.mean(), index = dipper.columns, columns=[\"average\"])\n",
      "/var/folders/gy/9j0hfb_n6sb5lxxcxrmmdrw00000gn/T/ipykernel_82308/1046066296.py:2: FutureWarning: Dropping of nuisance columns in DataFrame reductions (with 'numeric_only=None') is deprecated; in a future version this will raise TypeError.  Select only valid columns before calling the reduction.\n",
      "  non_dipper_avg = pd.DataFrame(non_dipper.mean(),index = non_dipper.columns, columns=[\"average\"])\n"
     ]
    }
   ],
   "source": [
    "dipper_avg = pd.DataFrame(dipper.mean(), index = dipper.columns, columns=[\"average\"])\n",
    "non_dipper_avg = pd.DataFrame(non_dipper.mean(),index = non_dipper.columns, columns=[\"average\"])"
   ]
  },
  {
   "cell_type": "code",
   "execution_count": 21,
   "metadata": {},
   "outputs": [],
   "source": [
    "dipper_avg.to_csv(\"/Users/younyung.gene/__TEXTBOOKS__/__3-2__/JUNIOR/patient_count/dipper_avg.csv\", index=False)\n",
    "non_dipper_avg.to_csv(\"/Users/younyung.gene/__TEXTBOOKS__/__3-2__/JUNIOR/patient_count/non_dipper_avg.csv\", index=False)"
   ]
  },
  {
   "cell_type": "code",
   "execution_count": 24,
   "metadata": {},
   "outputs": [],
   "source": [
    "dipper_avg.to_excel(\"/Users/younyung.gene/__TEXTBOOKS__/__3-2__/JUNIOR/patient_count/dipper_avg.xlsx\")\n",
    "non_dipper_avg.to_excel(\"/Users/younyung.gene/__TEXTBOOKS__/__3-2__/JUNIOR/patient_count/non_dipper_avg.xlsx\")"
   ]
  },
  {
   "cell_type": "code",
   "execution_count": 25,
   "metadata": {},
   "outputs": [
    {
     "name": "stdout",
     "output_type": "stream",
     "text": [
      "<class 'pandas.core.frame.DataFrame'>\n",
      "Int64Index: 32773 entries, 1 to 94351\n",
      "Data columns (total 34 columns):\n",
      " #   Column          Non-Null Count  Dtype  \n",
      "---  ------          --------------  -----  \n",
      " 0   fname           32773 non-null  object \n",
      " 1   AlsUnitNo       32773 non-null  float64\n",
      " 2   AcqDate         32773 non-null  object \n",
      " 3   연구내원번호          32773 non-null  float64\n",
      " 4   sex             32773 non-null  object \n",
      " 5   BirthDate       32773 non-null  object \n",
      " 6   처방시나이           32773 non-null  float64\n",
      " 7   TrueAge         32773 non-null  float64\n",
      " 8   waveform_shape  32773 non-null  object \n",
      " 9   ABPM_Date       32773 non-null  object \n",
      " 10  sbp_office      32773 non-null  float64\n",
      " 11  dbp_office      32773 non-null  float64\n",
      " 12  meanFull_SBP    32773 non-null  float64\n",
      " 13  meanFull_DBP    32773 non-null  float64\n",
      " 14  meanAwake_SBP   32773 non-null  float64\n",
      " 15  meanSleep_SBP   32773 non-null  float64\n",
      " 16  Age             32773 non-null  float64\n",
      " 17  sex_F0M1        32773 non-null  float64\n",
      " 18  Totalchol       32773 non-null  float64\n",
      " 19  LDL             32773 non-null  float64\n",
      " 20  HDL             32773 non-null  float64\n",
      " 21  TG              32773 non-null  float64\n",
      " 22  Hb              32773 non-null  float64\n",
      " 23  Cr              32773 non-null  float64\n",
      " 24  eGFR_MDRD       32773 non-null  float64\n",
      " 25  eGFR_CKDEPI     32773 non-null  float64\n",
      " 26  height          32773 non-null  float64\n",
      " 27  weight          32773 non-null  float64\n",
      " 28  BMI             32773 non-null  float64\n",
      " 29  EF              32773 non-null  float64\n",
      " 30  LVMI            32773 non-null  float64\n",
      " 31  date_diff       32773 non-null  int64  \n",
      " 32  dipping_value   32773 non-null  float64\n",
      " 33  dipper_label    32773 non-null  int64  \n",
      "dtypes: float64(26), int64(2), object(6)\n",
      "memory usage: 8.8+ MB\n"
     ]
    }
   ],
   "source": [
    "dipper.info()"
   ]
  },
  {
   "cell_type": "code",
   "execution_count": 27,
   "metadata": {},
   "outputs": [
    {
     "name": "stdout",
     "output_type": "stream",
     "text": [
      "<class 'pandas.core.frame.DataFrame'>\n",
      "Int64Index: 61583 entries, 0 to 94355\n",
      "Data columns (total 34 columns):\n",
      " #   Column          Non-Null Count  Dtype  \n",
      "---  ------          --------------  -----  \n",
      " 0   fname           61583 non-null  object \n",
      " 1   AlsUnitNo       61583 non-null  float64\n",
      " 2   AcqDate         61583 non-null  object \n",
      " 3   연구내원번호          61583 non-null  float64\n",
      " 4   sex             61583 non-null  object \n",
      " 5   BirthDate       61583 non-null  object \n",
      " 6   처방시나이           61583 non-null  float64\n",
      " 7   TrueAge         61583 non-null  float64\n",
      " 8   waveform_shape  61583 non-null  object \n",
      " 9   ABPM_Date       61583 non-null  object \n",
      " 10  sbp_office      61583 non-null  float64\n",
      " 11  dbp_office      61583 non-null  float64\n",
      " 12  meanFull_SBP    61583 non-null  float64\n",
      " 13  meanFull_DBP    61583 non-null  float64\n",
      " 14  meanAwake_SBP   61583 non-null  float64\n",
      " 15  meanSleep_SBP   61583 non-null  float64\n",
      " 16  Age             61583 non-null  float64\n",
      " 17  sex_F0M1        61583 non-null  float64\n",
      " 18  Totalchol       61583 non-null  float64\n",
      " 19  LDL             61583 non-null  float64\n",
      " 20  HDL             61583 non-null  float64\n",
      " 21  TG              61583 non-null  float64\n",
      " 22  Hb              61583 non-null  float64\n",
      " 23  Cr              61583 non-null  float64\n",
      " 24  eGFR_MDRD       61583 non-null  float64\n",
      " 25  eGFR_CKDEPI     61583 non-null  float64\n",
      " 26  height          61583 non-null  float64\n",
      " 27  weight          61583 non-null  float64\n",
      " 28  BMI             61583 non-null  float64\n",
      " 29  EF              61583 non-null  float64\n",
      " 30  LVMI            61583 non-null  float64\n",
      " 31  date_diff       61583 non-null  int64  \n",
      " 32  dipping_value   61583 non-null  float64\n",
      " 33  dipper_label    61583 non-null  int64  \n",
      "dtypes: float64(26), int64(2), object(6)\n",
      "memory usage: 16.4+ MB\n"
     ]
    }
   ],
   "source": [
    "non_dipper.info()"
   ]
  },
  {
   "cell_type": "code",
   "execution_count": 28,
   "metadata": {},
   "outputs": [
    {
     "data": {
      "text/plain": [
       "3809636.0     256\n",
       "4321909.0     203\n",
       "2943602.0     196\n",
       "4479084.0     194\n",
       "3159379.0     163\n",
       "             ... \n",
       "4680331.0       1\n",
       "4680107.0       1\n",
       "4051805.0       1\n",
       "2282648.0       1\n",
       "10000150.0      1\n",
       "Name: AlsUnitNo, Length: 7167, dtype: int64"
      ]
     },
     "execution_count": 28,
     "metadata": {},
     "output_type": "execute_result"
    }
   ],
   "source": [
    "non_dipper[\"AlsUnitNo\"].value_counts()"
   ]
  },
  {
   "cell_type": "code",
   "execution_count": 29,
   "metadata": {},
   "outputs": [
    {
     "data": {
      "text/plain": [
       "2851229.0    190\n",
       "3010715.0    127\n",
       "2968761.0    123\n",
       "4271648.0    115\n",
       "1845535.0    115\n",
       "            ... \n",
       "4475353.0      1\n",
       "4474983.0      1\n",
       "3964443.0      1\n",
       "4474005.0      1\n",
       "4117197.0      1\n",
       "Name: AlsUnitNo, Length: 5625, dtype: int64"
      ]
     },
     "execution_count": 29,
     "metadata": {},
     "output_type": "execute_result"
    }
   ],
   "source": [
    "dipper[\"AlsUnitNo\"].value_counts()"
   ]
  },
  {
   "cell_type": "code",
   "execution_count": 30,
   "metadata": {},
   "outputs": [
    {
     "data": {
      "text/plain": [
       "12792"
      ]
     },
     "execution_count": 30,
     "metadata": {},
     "output_type": "execute_result"
    }
   ],
   "source": [
    "7167 + 5625"
   ]
  },
  {
   "cell_type": "code",
   "execution_count": null,
   "metadata": {},
   "outputs": [],
   "source": []
  }
 ],
 "metadata": {
  "kernelspec": {
   "display_name": "base",
   "language": "python",
   "name": "python3"
  },
  "language_info": {
   "codemirror_mode": {
    "name": "ipython",
    "version": 3
   },
   "file_extension": ".py",
   "mimetype": "text/x-python",
   "name": "python",
   "nbconvert_exporter": "python",
   "pygments_lexer": "ipython3",
   "version": "3.9.13"
  }
 },
 "nbformat": 4,
 "nbformat_minor": 2
}
